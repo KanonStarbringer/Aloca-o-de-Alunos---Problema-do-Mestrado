{
 "cells": [
  {
   "cell_type": "code",
   "execution_count": 1,
   "id": "92f85d2b",
   "metadata": {},
   "outputs": [],
   "source": [
    "#Importa a biblioteca\n",
    "import networkx as nx"
   ]
  },
  {
   "cell_type": "code",
   "execution_count": 2,
   "id": "5f9b3849",
   "metadata": {},
   "outputs": [],
   "source": [
    "#Cria um gráfico direcionado\n",
    "grafo = nx.DiGraph()"
   ]
  },
  {
   "cell_type": "code",
   "execution_count": 4,
   "id": "fbd094a0",
   "metadata": {},
   "outputs": [],
   "source": [
    "#Adiciona as arestas do Grafo\n",
    "\n",
    "#Nó S\n",
    "grafo.add_edge('S', 'A', weight=3)\n",
    "grafo.add_edge('S', 'B', weight=5)\n",
    "grafo.add_edge('S', 'C', weight=2)\n",
    "\n",
    "#Nó A\n",
    "grafo.add_edge('A', 'B', weight=2)\n",
    "grafo.add_edge('A', 'D', weight=7)\n",
    "\n",
    "#Nó B\n",
    "grafo.add_edge('B', 'D', weight=2)\n",
    "grafo.add_edge('B', 'E', weight=5)\n",
    "\n",
    "#Nó C\n",
    "grafo.add_edge('C', 'B', weight=1)\n",
    "grafo.add_edge('C', 'E', weight=8)\n",
    "\n",
    "#Nó D\n",
    "grafo.add_edge('D', 'T', weight=5)\n",
    "grafo.add_edge('D', 'E', weight=1)\n",
    "\n",
    "#Nó E\n",
    "grafo.add_edge('E', 'T', weight=3)"
   ]
  },
  {
   "cell_type": "code",
   "execution_count": 5,
   "id": "8251c1b9",
   "metadata": {},
   "outputs": [],
   "source": [
    "#Encontra o caminho mínimo usando Djikstra\n",
    "caminho_minimo = nx.dijkstra_path(grafo, 'S', 'T', weight='weight')\n",
    "custo_minimo = nx.dijkstra_path_length(grafo, 'S', 'T', weight='weight')"
   ]
  },
  {
   "cell_type": "code",
   "execution_count": 6,
   "id": "ec35d1f5",
   "metadata": {},
   "outputs": [
    {
     "name": "stdout",
     "output_type": "stream",
     "text": [
      "caminho minimo= ['S', 'C', 'B', 'D', 'E', 'T']\n",
      "custo minimo= 9\n"
     ]
    }
   ],
   "source": [
    "#Imprime os resultados\n",
    "print('caminho minimo=', caminho_minimo)\n",
    "print('custo minimo=', custo_minimo)"
   ]
  },
  {
   "cell_type": "code",
   "execution_count": null,
   "id": "517cfd07",
   "metadata": {},
   "outputs": [],
   "source": []
  }
 ],
 "metadata": {
  "kernelspec": {
   "display_name": "Python 3 (ipykernel)",
   "language": "python",
   "name": "python3"
  },
  "language_info": {
   "codemirror_mode": {
    "name": "ipython",
    "version": 3
   },
   "file_extension": ".py",
   "mimetype": "text/x-python",
   "name": "python",
   "nbconvert_exporter": "python",
   "pygments_lexer": "ipython3",
   "version": "3.10.11"
  }
 },
 "nbformat": 4,
 "nbformat_minor": 5
}
