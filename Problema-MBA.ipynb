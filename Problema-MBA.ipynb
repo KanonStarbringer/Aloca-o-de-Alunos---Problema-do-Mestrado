{
 "cells": [
  {
   "cell_type": "code",
   "execution_count": 1,
   "id": "6077ca84",
   "metadata": {},
   "outputs": [
    {
     "name": "stdout",
     "output_type": "stream",
     "text": [
      "Set parameter Username\n"
     ]
    }
   ],
   "source": [
    "#Problema MBA\n",
    "import gurobipy as gp\n",
    "import pandas as pd\n",
    "from gurobipy import GRB\n",
    "\n",
    "m = gp.Model('problema_MBA')"
   ]
  },
  {
   "cell_type": "code",
   "execution_count": 2,
   "id": "a6bf2908",
   "metadata": {},
   "outputs": [],
   "source": [
    "Produtos = ['Mesa', 'Cadeira', 'Estante', 'Armario', 'Cama']"
   ]
  },
  {
   "cell_type": "code",
   "execution_count": 3,
   "id": "a9738374",
   "metadata": {},
   "outputs": [
    {
     "data": {
      "text/html": [
       "<div>\n",
       "<style scoped>\n",
       "    .dataframe tbody tr th:only-of-type {\n",
       "        vertical-align: middle;\n",
       "    }\n",
       "\n",
       "    .dataframe tbody tr th {\n",
       "        vertical-align: top;\n",
       "    }\n",
       "\n",
       "    .dataframe thead th {\n",
       "        text-align: right;\n",
       "    }\n",
       "</style>\n",
       "<table border=\"1\" class=\"dataframe\">\n",
       "  <thead>\n",
       "    <tr style=\"text-align: right;\">\n",
       "      <th></th>\n",
       "      <th>Lucro</th>\n",
       "    </tr>\n",
       "  </thead>\n",
       "  <tbody>\n",
       "    <tr>\n",
       "      <th>Mesa</th>\n",
       "      <td>500</td>\n",
       "    </tr>\n",
       "    <tr>\n",
       "      <th>Cadeira</th>\n",
       "      <td>200</td>\n",
       "    </tr>\n",
       "    <tr>\n",
       "      <th>Estante</th>\n",
       "      <td>600</td>\n",
       "    </tr>\n",
       "    <tr>\n",
       "      <th>Armario</th>\n",
       "      <td>900</td>\n",
       "    </tr>\n",
       "    <tr>\n",
       "      <th>Cama</th>\n",
       "      <td>700</td>\n",
       "    </tr>\n",
       "  </tbody>\n",
       "</table>\n",
       "</div>"
      ],
      "text/plain": [
       "         Lucro\n",
       "Mesa       500\n",
       "Cadeira    200\n",
       "Estante    600\n",
       "Armario    900\n",
       "Cama       700"
      ]
     },
     "execution_count": 3,
     "metadata": {},
     "output_type": "execute_result"
    }
   ],
   "source": [
    "Lucro = pd.Series([500, 200, 600, 900, 700], index = Produtos, name = 'Lucro')\n",
    "\n",
    "Lucro.to_frame()"
   ]
  },
  {
   "cell_type": "code",
   "execution_count": 4,
   "id": "6aab6aa2",
   "metadata": {},
   "outputs": [
    {
     "data": {
      "text/html": [
       "<div>\n",
       "<style scoped>\n",
       "    .dataframe tbody tr th:only-of-type {\n",
       "        vertical-align: middle;\n",
       "    }\n",
       "\n",
       "    .dataframe tbody tr th {\n",
       "        vertical-align: top;\n",
       "    }\n",
       "\n",
       "    .dataframe thead th {\n",
       "        text-align: right;\n",
       "    }\n",
       "</style>\n",
       "<table border=\"1\" class=\"dataframe\">\n",
       "  <thead>\n",
       "    <tr style=\"text-align: right;\">\n",
       "      <th></th>\n",
       "      <th>restrições de capacidade</th>\n",
       "    </tr>\n",
       "  </thead>\n",
       "  <tbody>\n",
       "    <tr>\n",
       "      <th>Materia prima</th>\n",
       "      <td>150</td>\n",
       "    </tr>\n",
       "    <tr>\n",
       "      <th>Horas</th>\n",
       "      <td>100</td>\n",
       "    </tr>\n",
       "    <tr>\n",
       "      <th>Armazenamento</th>\n",
       "      <td>120</td>\n",
       "    </tr>\n",
       "  </tbody>\n",
       "</table>\n",
       "</div>"
      ],
      "text/plain": [
       "               restrições de capacidade\n",
       "Materia prima                       150\n",
       "Horas                               100\n",
       "Armazenamento                       120"
      ]
     },
     "execution_count": 4,
     "metadata": {},
     "output_type": "execute_result"
    }
   ],
   "source": [
    "restrições_de_capacidade = ['Materia prima', 'Horas', 'Armazenamento']\n",
    "\n",
    "Capacidade = pd.Series([150, 100, 120], index = restrições_de_capacidade, name = 'restrições de capacidade')\n",
    "\n",
    "Capacidade.to_frame()"
   ]
  },
  {
   "cell_type": "code",
   "execution_count": 5,
   "id": "b52ad3c3",
   "metadata": {},
   "outputs": [
    {
     "data": {
      "text/html": [
       "<div>\n",
       "<style scoped>\n",
       "    .dataframe tbody tr th:only-of-type {\n",
       "        vertical-align: middle;\n",
       "    }\n",
       "\n",
       "    .dataframe tbody tr th {\n",
       "        vertical-align: top;\n",
       "    }\n",
       "\n",
       "    .dataframe thead th {\n",
       "        text-align: right;\n",
       "    }\n",
       "</style>\n",
       "<table border=\"1\" class=\"dataframe\">\n",
       "  <thead>\n",
       "    <tr style=\"text-align: right;\">\n",
       "      <th></th>\n",
       "      <th>Mesa</th>\n",
       "      <th>Cadeira</th>\n",
       "      <th>Estante</th>\n",
       "      <th>Armario</th>\n",
       "      <th>Cama</th>\n",
       "    </tr>\n",
       "  </thead>\n",
       "  <tbody>\n",
       "    <tr>\n",
       "      <th>Materia prima</th>\n",
       "      <td>2</td>\n",
       "      <td>1.0</td>\n",
       "      <td>3</td>\n",
       "      <td>3.0</td>\n",
       "      <td>2</td>\n",
       "    </tr>\n",
       "    <tr>\n",
       "      <th>Horas</th>\n",
       "      <td>1</td>\n",
       "      <td>0.5</td>\n",
       "      <td>2</td>\n",
       "      <td>1.5</td>\n",
       "      <td>1</td>\n",
       "    </tr>\n",
       "    <tr>\n",
       "      <th>Armazenamento</th>\n",
       "      <td>2</td>\n",
       "      <td>1.0</td>\n",
       "      <td>2</td>\n",
       "      <td>2.0</td>\n",
       "      <td>2</td>\n",
       "    </tr>\n",
       "  </tbody>\n",
       "</table>\n",
       "</div>"
      ],
      "text/plain": [
       "               Mesa  Cadeira  Estante  Armario  Cama\n",
       "Materia prima     2      1.0        3      3.0     2\n",
       "Horas             1      0.5        2      1.5     1\n",
       "Armazenamento     2      1.0        2      2.0     2"
      ]
     },
     "execution_count": 5,
     "metadata": {},
     "output_type": "execute_result"
    }
   ],
   "source": [
    "dicionario_capacidades = {'Mesa': [2, 1, 2],\n",
    "                         'Cadeira': [1, 0.5, 1],\n",
    "                         'Estante': [3, 2, 2],\n",
    "                         'Armario': [3, 1.5, 2],\n",
    "                         'Cama': [2, 1, 2]}\n",
    "\n",
    "df_capacidades = pd.DataFrame(dicionario_capacidades, index = restrições_de_capacidade)\n",
    "\n",
    "df_capacidades"
   ]
  },
  {
   "cell_type": "code",
   "execution_count": 6,
   "id": "42563d79",
   "metadata": {},
   "outputs": [
    {
     "data": {
      "text/plain": [
       "{'Mesa': <gurobi.Var PRODUTOS[Mesa]>,\n",
       " 'Cadeira': <gurobi.Var PRODUTOS[Cadeira]>,\n",
       " 'Estante': <gurobi.Var PRODUTOS[Estante]>,\n",
       " 'Armario': <gurobi.Var PRODUTOS[Armario]>,\n",
       " 'Cama': <gurobi.Var PRODUTOS[Cama]>}"
      ]
     },
     "execution_count": 6,
     "metadata": {},
     "output_type": "execute_result"
    }
   ],
   "source": [
    "m = gp.Model('problema_MBA')\n",
    "x = m.addVars(Produtos, vtype = GRB.INTEGER ,name = 'PRODUTOS')\n",
    "m.update()\n",
    "x"
   ]
  },
  {
   "cell_type": "code",
   "execution_count": 7,
   "id": "b09a2103",
   "metadata": {},
   "outputs": [],
   "source": [
    "#Restrições de produção\n",
    "restricao_producao_mesa = m.addConstr(x['Mesa']>=10, name = 'restrição de produção de mesas')\n",
    "restricao_producao_cadeira = m.addConstr(x['Cadeira']>=20, name = 'restrição de produção de cadeiras')\n",
    "restricao_producao_estante = m.addConstr(x['Estante']>=5, name = 'restrição de produção de estantes')\n",
    "restricao_producao_cama = m.addConstr(x['Cama']>=15, name = 'restrição de produção de camas')\n",
    "m.update()"
   ]
  },
  {
   "cell_type": "code",
   "execution_count": 8,
   "id": "0d6452e5",
   "metadata": {},
   "outputs": [],
   "source": [
    "#Restrições de capacidade\n",
    "rc_matprima = m.addConstr(2*x['Mesa']+1*x['Cadeira']+3*x['Estante']+3*x['Armario']+2*x['Cama']<=150, name = 'restriçao de matéria prima') \n",
    "rc_horas = m.addConstr(1*x['Mesa']+0.5*x['Cadeira']+2*x['Estante']+1.5*x['Armario']+1*x['Cama']<=100, name = 'restrição para as horas') \n",
    "rc_armaz = m.addConstr(2*x['Mesa']+1*x['Cadeira']+2*x['Estante']+2*x['Armario']+2*x['Cama']<=120, name = 'restrição para armazenamento')\n",
    "m.update()"
   ]
  },
  {
   "cell_type": "code",
   "execution_count": 9,
   "id": "2eb35945",
   "metadata": {},
   "outputs": [],
   "source": [
    "#Criando a função objetivo\n",
    "m.setObjective(500*x['Mesa']+200*x['Cadeira']+600*x['Estante']+900*x['Armario']+700*x['Cama'], GRB.MAXIMIZE)"
   ]
  },
  {
   "cell_type": "code",
   "execution_count": 10,
   "id": "fafa4ae9",
   "metadata": {},
   "outputs": [
    {
     "name": "stdout",
     "output_type": "stream",
     "text": [
      "Warning: constraint name \"restrição de produção de mesas\" has a space\n"
     ]
    }
   ],
   "source": [
    "#Escrevendo o problema, pra checar se está correto\n",
    "m.write('problema MBA.lp')"
   ]
  },
  {
   "cell_type": "code",
   "execution_count": 11,
   "id": "6e21f854",
   "metadata": {},
   "outputs": [
    {
     "name": "stdout",
     "output_type": "stream",
     "text": [
      "Gurobi Optimizer version 10.0.1 build v10.0.1rc0 (mac64[rosetta2])\n",
      "\n",
      "CPU model: Apple M1\n",
      "Thread count: 8 physical cores, 8 logical processors, using up to 8 threads\n",
      "\n",
      "Optimize a model with 7 rows, 5 columns and 19 nonzeros\n",
      "Model fingerprint: 0xfffa1c09\n",
      "Variable types: 0 continuous, 5 integer (0 binary)\n",
      "Coefficient statistics:\n",
      "  Matrix range     [5e-01, 3e+00]\n",
      "  Objective range  [2e+02, 9e+02]\n",
      "  Bounds range     [0e+00, 0e+00]\n",
      "  RHS range        [5e+00, 2e+02]\n",
      "Presolve removed 7 rows and 5 columns\n",
      "Presolve time: 0.00s\n",
      "Presolve: All rows and columns removed\n",
      "\n",
      "Explored 0 nodes (0 simplex iterations) in 0.00 seconds (0.00 work units)\n",
      "Thread count was 1 (of 8 available processors)\n",
      "\n",
      "Solution count 1: 40500 \n",
      "\n",
      "Optimal solution found (tolerance 1.00e-04)\n",
      "Best objective 4.050000000000e+04, best bound 4.050000000000e+04, gap 0.0000%\n"
     ]
    }
   ],
   "source": [
    "#Otimizando\n",
    "m.optimize()"
   ]
  },
  {
   "cell_type": "code",
   "execution_count": 12,
   "id": "001a7d5a",
   "metadata": {},
   "outputs": [
    {
     "data": {
      "text/plain": [
       "{'Mesa': 10.0, 'Cadeira': 20.0, 'Estante': 5.0, 'Armario': 20.0, 'Cama': 15.0}"
      ]
     },
     "execution_count": 12,
     "metadata": {},
     "output_type": "execute_result"
    }
   ],
   "source": [
    "#Obtendo os valores\n",
    "xvals = {k: v.x for k,v in x.items() if v.x > 0}\n",
    "xvals"
   ]
  },
  {
   "cell_type": "code",
   "execution_count": 13,
   "id": "6cf10863",
   "metadata": {},
   "outputs": [
    {
     "name": "stdout",
     "output_type": "stream",
     "text": [
      "O valor da função objetivo é 40500.0\n"
     ]
    }
   ],
   "source": [
    "#Mostrando o resultado da função objetivo\n",
    "obj = m.getObjective()\n",
    "print(f\"O valor da função objetivo é {round(obj.getValue(),2)}\")"
   ]
  },
  {
   "cell_type": "code",
   "execution_count": null,
   "id": "a1cbcbfa",
   "metadata": {},
   "outputs": [],
   "source": []
  }
 ],
 "metadata": {
  "kernelspec": {
   "display_name": "Python 3 (ipykernel)",
   "language": "python",
   "name": "python3"
  },
  "language_info": {
   "codemirror_mode": {
    "name": "ipython",
    "version": 3
   },
   "file_extension": ".py",
   "mimetype": "text/x-python",
   "name": "python",
   "nbconvert_exporter": "python",
   "pygments_lexer": "ipython3",
   "version": "3.10.11"
  }
 },
 "nbformat": 4,
 "nbformat_minor": 5
}
