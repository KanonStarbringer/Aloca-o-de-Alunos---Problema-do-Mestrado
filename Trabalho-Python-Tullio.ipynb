{
 "cells": [
  {
   "cell_type": "code",
   "execution_count": 1,
   "id": "190a16aa",
   "metadata": {},
   "outputs": [
    {
     "name": "stdout",
     "output_type": "stream",
     "text": [
      "Set parameter Username\n"
     ]
    }
   ],
   "source": [
    "#Instalando o pacote\n",
    "%pip install gurobipy\n",
    "\n",
    "#Trabalho Python - Mestrado\n",
    "#Disciplina Pesquisa Operacional 1\n",
    "\n",
    "#Utilizarei o Gurobi, para resolver\n",
    "import gurobipy as gp\n",
    "import pandas as pd\n",
    "from gurobipy import GRB\n",
    "\n",
    "#conjuntos\n",
    "estudantes = [1, 2, 3, 4, 5, 6, 7, 8, 9, 10]\n",
    "cursos = [1, 2, 3, 4, 5, 6]\n",
    "\n",
    "#Definindo um modelo\n",
    "m = gp.Model('problema_Mestrado')"
   ]
  },
  {
   "cell_type": "code",
   "execution_count": 2,
   "id": "1a8ef349",
   "metadata": {},
   "outputs": [
    {
     "name": "stderr",
     "output_type": "stream",
     "text": [
      "/var/folders/f8/sx2sm28s5xn92g54_n5vypwh0000gn/T/ipykernel_49012/900302864.py:3: FutureWarning: The squeeze argument has been deprecated and will be removed in a future version. Append .squeeze(\"columns\") to the call to squeeze.\n",
      "\n",
      "\n",
      "  pontos = pd.read_csv(path, index_col=[0,1], squeeze=True)\n"
     ]
    },
    {
     "data": {
      "text/html": [
       "<div>\n",
       "<style scoped>\n",
       "    .dataframe tbody tr th:only-of-type {\n",
       "        vertical-align: middle;\n",
       "    }\n",
       "\n",
       "    .dataframe tbody tr th {\n",
       "        vertical-align: top;\n",
       "    }\n",
       "\n",
       "    .dataframe thead th {\n",
       "        text-align: right;\n",
       "    }\n",
       "</style>\n",
       "<table border=\"1\" class=\"dataframe\">\n",
       "  <thead>\n",
       "    <tr style=\"text-align: right;\">\n",
       "      <th>Curso</th>\n",
       "      <th>1</th>\n",
       "      <th>2</th>\n",
       "      <th>3</th>\n",
       "      <th>4</th>\n",
       "      <th>5</th>\n",
       "      <th>6</th>\n",
       "    </tr>\n",
       "    <tr>\n",
       "      <th>Estudante</th>\n",
       "      <th></th>\n",
       "      <th></th>\n",
       "      <th></th>\n",
       "      <th></th>\n",
       "      <th></th>\n",
       "      <th></th>\n",
       "    </tr>\n",
       "  </thead>\n",
       "  <tbody>\n",
       "    <tr>\n",
       "      <th>1</th>\n",
       "      <td>20</td>\n",
       "      <td>40</td>\n",
       "      <td>50</td>\n",
       "      <td>30</td>\n",
       "      <td>90</td>\n",
       "      <td>100</td>\n",
       "    </tr>\n",
       "    <tr>\n",
       "      <th>2</th>\n",
       "      <td>90</td>\n",
       "      <td>100</td>\n",
       "      <td>80</td>\n",
       "      <td>70</td>\n",
       "      <td>10</td>\n",
       "      <td>40</td>\n",
       "    </tr>\n",
       "    <tr>\n",
       "      <th>3</th>\n",
       "      <td>25</td>\n",
       "      <td>40</td>\n",
       "      <td>30</td>\n",
       "      <td>80</td>\n",
       "      <td>95</td>\n",
       "      <td>90</td>\n",
       "    </tr>\n",
       "    <tr>\n",
       "      <th>4</th>\n",
       "      <td>80</td>\n",
       "      <td>50</td>\n",
       "      <td>60</td>\n",
       "      <td>80</td>\n",
       "      <td>30</td>\n",
       "      <td>40</td>\n",
       "    </tr>\n",
       "    <tr>\n",
       "      <th>5</th>\n",
       "      <td>75</td>\n",
       "      <td>60</td>\n",
       "      <td>90</td>\n",
       "      <td>100</td>\n",
       "      <td>50</td>\n",
       "      <td>40</td>\n",
       "    </tr>\n",
       "    <tr>\n",
       "      <th>6</th>\n",
       "      <td>60</td>\n",
       "      <td>40</td>\n",
       "      <td>90</td>\n",
       "      <td>10</td>\n",
       "      <td>80</td>\n",
       "      <td>80</td>\n",
       "    </tr>\n",
       "    <tr>\n",
       "      <th>7</th>\n",
       "      <td>45</td>\n",
       "      <td>40</td>\n",
       "      <td>70</td>\n",
       "      <td>60</td>\n",
       "      <td>55</td>\n",
       "      <td>60</td>\n",
       "    </tr>\n",
       "    <tr>\n",
       "      <th>8</th>\n",
       "      <td>30</td>\n",
       "      <td>100</td>\n",
       "      <td>40</td>\n",
       "      <td>70</td>\n",
       "      <td>90</td>\n",
       "      <td>55</td>\n",
       "    </tr>\n",
       "    <tr>\n",
       "      <th>9</th>\n",
       "      <td>80</td>\n",
       "      <td>60</td>\n",
       "      <td>100</td>\n",
       "      <td>70</td>\n",
       "      <td>65</td>\n",
       "      <td>80</td>\n",
       "    </tr>\n",
       "    <tr>\n",
       "      <th>10</th>\n",
       "      <td>40</td>\n",
       "      <td>60</td>\n",
       "      <td>80</td>\n",
       "      <td>10</td>\n",
       "      <td>80</td>\n",
       "      <td>80</td>\n",
       "    </tr>\n",
       "  </tbody>\n",
       "</table>\n",
       "</div>"
      ],
      "text/plain": [
       "Curso       1    2    3    4   5    6\n",
       "Estudante                            \n",
       "1          20   40   50   30  90  100\n",
       "2          90  100   80   70  10   40\n",
       "3          25   40   30   80  95   90\n",
       "4          80   50   60   80  30   40\n",
       "5          75   60   90  100  50   40\n",
       "6          60   40   90   10  80   80\n",
       "7          45   40   70   60  55   60\n",
       "8          30  100   40   70  90   55\n",
       "9          80   60  100   70  65   80\n",
       "10         40   60   80   10  80   80"
      ]
     },
     "execution_count": 2,
     "metadata": {},
     "output_type": "execute_result"
    }
   ],
   "source": [
    "#pontos por curso\n",
    "path = '/Users/TullioPires/Python-Mestrado/dados.csv'\n",
    "pontos = pd.read_csv(path, index_col=[0,1], squeeze=True)\n",
    "\n",
    "#Pivotar a tabela, para ler\n",
    "pontos.reset_index().pivot(index = 'Estudante', columns = 'Curso', values = 'Pontos')"
   ]
  },
  {
   "cell_type": "code",
   "execution_count": 3,
   "id": "4c3f6339",
   "metadata": {},
   "outputs": [
    {
     "data": {
      "text/html": [
       "<div>\n",
       "<style scoped>\n",
       "    .dataframe tbody tr th:only-of-type {\n",
       "        vertical-align: middle;\n",
       "    }\n",
       "\n",
       "    .dataframe tbody tr th {\n",
       "        vertical-align: top;\n",
       "    }\n",
       "\n",
       "    .dataframe thead th {\n",
       "        text-align: right;\n",
       "    }\n",
       "</style>\n",
       "<table border=\"1\" class=\"dataframe\">\n",
       "  <thead>\n",
       "    <tr style=\"text-align: right;\">\n",
       "      <th></th>\n",
       "      <th>Capacidade</th>\n",
       "    </tr>\n",
       "  </thead>\n",
       "  <tbody>\n",
       "    <tr>\n",
       "      <th>1</th>\n",
       "      <td>6</td>\n",
       "    </tr>\n",
       "    <tr>\n",
       "      <th>2</th>\n",
       "      <td>8</td>\n",
       "    </tr>\n",
       "    <tr>\n",
       "      <th>3</th>\n",
       "      <td>5</td>\n",
       "    </tr>\n",
       "    <tr>\n",
       "      <th>4</th>\n",
       "      <td>5</td>\n",
       "    </tr>\n",
       "    <tr>\n",
       "      <th>5</th>\n",
       "      <td>6</td>\n",
       "    </tr>\n",
       "    <tr>\n",
       "      <th>6</th>\n",
       "      <td>5</td>\n",
       "    </tr>\n",
       "  </tbody>\n",
       "</table>\n",
       "</div>"
      ],
      "text/plain": [
       "   Capacidade\n",
       "1           6\n",
       "2           8\n",
       "3           5\n",
       "4           5\n",
       "5           6\n",
       "6           5"
      ]
     },
     "execution_count": 3,
     "metadata": {},
     "output_type": "execute_result"
    }
   ],
   "source": [
    "#Capacidade dos cursos\n",
    "capacidade = pd.Series([6, 8, 5, 5, 6, 5], index = cursos, name = 'Capacidade')\n",
    "capacidade.to_frame()"
   ]
  },
  {
   "cell_type": "code",
   "execution_count": 4,
   "id": "f73a027c",
   "metadata": {},
   "outputs": [
    {
     "data": {
      "text/html": [
       "<div>\n",
       "<style scoped>\n",
       "    .dataframe tbody tr th:only-of-type {\n",
       "        vertical-align: middle;\n",
       "    }\n",
       "\n",
       "    .dataframe tbody tr th {\n",
       "        vertical-align: top;\n",
       "    }\n",
       "\n",
       "    .dataframe thead th {\n",
       "        text-align: right;\n",
       "    }\n",
       "</style>\n",
       "<table border=\"1\" class=\"dataframe\">\n",
       "  <thead>\n",
       "    <tr style=\"text-align: right;\">\n",
       "      <th></th>\n",
       "      <th>Nec de estudantes</th>\n",
       "    </tr>\n",
       "  </thead>\n",
       "  <tbody>\n",
       "    <tr>\n",
       "      <th>1</th>\n",
       "      <td>2</td>\n",
       "    </tr>\n",
       "    <tr>\n",
       "      <th>2</th>\n",
       "      <td>2</td>\n",
       "    </tr>\n",
       "    <tr>\n",
       "      <th>3</th>\n",
       "      <td>2</td>\n",
       "    </tr>\n",
       "    <tr>\n",
       "      <th>4</th>\n",
       "      <td>2</td>\n",
       "    </tr>\n",
       "    <tr>\n",
       "      <th>5</th>\n",
       "      <td>2</td>\n",
       "    </tr>\n",
       "    <tr>\n",
       "      <th>6</th>\n",
       "      <td>2</td>\n",
       "    </tr>\n",
       "    <tr>\n",
       "      <th>7</th>\n",
       "      <td>2</td>\n",
       "    </tr>\n",
       "    <tr>\n",
       "      <th>8</th>\n",
       "      <td>2</td>\n",
       "    </tr>\n",
       "    <tr>\n",
       "      <th>9</th>\n",
       "      <td>2</td>\n",
       "    </tr>\n",
       "    <tr>\n",
       "      <th>10</th>\n",
       "      <td>2</td>\n",
       "    </tr>\n",
       "  </tbody>\n",
       "</table>\n",
       "</div>"
      ],
      "text/plain": [
       "    Nec de estudantes\n",
       "1                   2\n",
       "2                   2\n",
       "3                   2\n",
       "4                   2\n",
       "5                   2\n",
       "6                   2\n",
       "7                   2\n",
       "8                   2\n",
       "9                   2\n",
       "10                  2"
      ]
     },
     "execution_count": 4,
     "metadata": {},
     "output_type": "execute_result"
    }
   ],
   "source": [
    "#Necessidade de estudantes\n",
    "nec_estudantes = pd.Series([2, 2, 2, 2, 2, 2, 2, 2, 2, 2], index = estudantes, name = 'Nec de estudantes')\n",
    "nec_estudantes.to_frame()"
   ]
  },
  {
   "cell_type": "code",
   "execution_count": 5,
   "id": "db0dfbf6",
   "metadata": {},
   "outputs": [
    {
     "data": {
      "text/plain": [
       "{(1, 1): <gurobi.Var estudante_curso[1,1]>,\n",
       " (1, 2): <gurobi.Var estudante_curso[1,2]>,\n",
       " (1, 3): <gurobi.Var estudante_curso[1,3]>,\n",
       " (1, 4): <gurobi.Var estudante_curso[1,4]>,\n",
       " (1, 5): <gurobi.Var estudante_curso[1,5]>,\n",
       " (1, 6): <gurobi.Var estudante_curso[1,6]>,\n",
       " (2, 1): <gurobi.Var estudante_curso[2,1]>,\n",
       " (2, 2): <gurobi.Var estudante_curso[2,2]>,\n",
       " (2, 3): <gurobi.Var estudante_curso[2,3]>,\n",
       " (2, 4): <gurobi.Var estudante_curso[2,4]>,\n",
       " (2, 5): <gurobi.Var estudante_curso[2,5]>,\n",
       " (2, 6): <gurobi.Var estudante_curso[2,6]>,\n",
       " (3, 1): <gurobi.Var estudante_curso[3,1]>,\n",
       " (3, 2): <gurobi.Var estudante_curso[3,2]>,\n",
       " (3, 3): <gurobi.Var estudante_curso[3,3]>,\n",
       " (3, 4): <gurobi.Var estudante_curso[3,4]>,\n",
       " (3, 5): <gurobi.Var estudante_curso[3,5]>,\n",
       " (3, 6): <gurobi.Var estudante_curso[3,6]>,\n",
       " (4, 1): <gurobi.Var estudante_curso[4,1]>,\n",
       " (4, 2): <gurobi.Var estudante_curso[4,2]>,\n",
       " (4, 3): <gurobi.Var estudante_curso[4,3]>,\n",
       " (4, 4): <gurobi.Var estudante_curso[4,4]>,\n",
       " (4, 5): <gurobi.Var estudante_curso[4,5]>,\n",
       " (4, 6): <gurobi.Var estudante_curso[4,6]>,\n",
       " (5, 1): <gurobi.Var estudante_curso[5,1]>,\n",
       " (5, 2): <gurobi.Var estudante_curso[5,2]>,\n",
       " (5, 3): <gurobi.Var estudante_curso[5,3]>,\n",
       " (5, 4): <gurobi.Var estudante_curso[5,4]>,\n",
       " (5, 5): <gurobi.Var estudante_curso[5,5]>,\n",
       " (5, 6): <gurobi.Var estudante_curso[5,6]>,\n",
       " (6, 1): <gurobi.Var estudante_curso[6,1]>,\n",
       " (6, 2): <gurobi.Var estudante_curso[6,2]>,\n",
       " (6, 3): <gurobi.Var estudante_curso[6,3]>,\n",
       " (6, 4): <gurobi.Var estudante_curso[6,4]>,\n",
       " (6, 5): <gurobi.Var estudante_curso[6,5]>,\n",
       " (6, 6): <gurobi.Var estudante_curso[6,6]>,\n",
       " (7, 1): <gurobi.Var estudante_curso[7,1]>,\n",
       " (7, 2): <gurobi.Var estudante_curso[7,2]>,\n",
       " (7, 3): <gurobi.Var estudante_curso[7,3]>,\n",
       " (7, 4): <gurobi.Var estudante_curso[7,4]>,\n",
       " (7, 5): <gurobi.Var estudante_curso[7,5]>,\n",
       " (7, 6): <gurobi.Var estudante_curso[7,6]>,\n",
       " (8, 1): <gurobi.Var estudante_curso[8,1]>,\n",
       " (8, 2): <gurobi.Var estudante_curso[8,2]>,\n",
       " (8, 3): <gurobi.Var estudante_curso[8,3]>,\n",
       " (8, 4): <gurobi.Var estudante_curso[8,4]>,\n",
       " (8, 5): <gurobi.Var estudante_curso[8,5]>,\n",
       " (8, 6): <gurobi.Var estudante_curso[8,6]>,\n",
       " (9, 1): <gurobi.Var estudante_curso[9,1]>,\n",
       " (9, 2): <gurobi.Var estudante_curso[9,2]>,\n",
       " (9, 3): <gurobi.Var estudante_curso[9,3]>,\n",
       " (9, 4): <gurobi.Var estudante_curso[9,4]>,\n",
       " (9, 5): <gurobi.Var estudante_curso[9,5]>,\n",
       " (9, 6): <gurobi.Var estudante_curso[9,6]>,\n",
       " (10, 1): <gurobi.Var estudante_curso[10,1]>,\n",
       " (10, 2): <gurobi.Var estudante_curso[10,2]>,\n",
       " (10, 3): <gurobi.Var estudante_curso[10,3]>,\n",
       " (10, 4): <gurobi.Var estudante_curso[10,4]>,\n",
       " (10, 5): <gurobi.Var estudante_curso[10,5]>,\n",
       " (10, 6): <gurobi.Var estudante_curso[10,6]>}"
      ]
     },
     "execution_count": 5,
     "metadata": {},
     "output_type": "execute_result"
    }
   ],
   "source": [
    "#Criando as variáveis de decisão\n",
    "m = gp.Model('problema_Mestrado')\n",
    "x = m.addVars(estudantes, cursos, vtype = GRB.BINARY,name = 'estudante_curso')\n",
    "m.update()\n",
    "x"
   ]
  },
  {
   "cell_type": "code",
   "execution_count": 6,
   "id": "901c52fe",
   "metadata": {},
   "outputs": [
    {
     "data": {
      "text/plain": [
       "{1: <gurobi.Constr restrição de curso[1]>,\n",
       " 2: <gurobi.Constr restrição de curso[2]>,\n",
       " 3: <gurobi.Constr restrição de curso[3]>,\n",
       " 4: <gurobi.Constr restrição de curso[4]>,\n",
       " 5: <gurobi.Constr restrição de curso[5]>,\n",
       " 6: <gurobi.Constr restrição de curso[6]>,\n",
       " 7: <gurobi.Constr restrição de curso[7]>,\n",
       " 8: <gurobi.Constr restrição de curso[8]>,\n",
       " 9: <gurobi.Constr restrição de curso[9]>,\n",
       " 10: <gurobi.Constr restrição de curso[10]>}"
      ]
     },
     "execution_count": 6,
     "metadata": {},
     "output_type": "execute_result"
    }
   ],
   "source": [
    "#Criando as restrições\n",
    "#Restrição de curso\n",
    "restricao_curso = m.addConstrs((x.sum(i, '*') == 2 for i in estudantes), \n",
    "                               name = 'restrição de curso')\n",
    "m.update()\n",
    "restricao_curso"
   ]
  },
  {
   "cell_type": "code",
   "execution_count": 7,
   "id": "8e0eeb09",
   "metadata": {},
   "outputs": [
    {
     "data": {
      "text/plain": [
       "{1: <gurobi.Constr restricao de capacidade[1]>,\n",
       " 2: <gurobi.Constr restricao de capacidade[2]>,\n",
       " 3: <gurobi.Constr restricao de capacidade[3]>,\n",
       " 4: <gurobi.Constr restricao de capacidade[4]>,\n",
       " 5: <gurobi.Constr restricao de capacidade[5]>,\n",
       " 6: <gurobi.Constr restricao de capacidade[6]>}"
      ]
     },
     "execution_count": 7,
     "metadata": {},
     "output_type": "execute_result"
    }
   ],
   "source": [
    "#Restrição de capacidade\n",
    "restricao_capacidade = m.addConstrs((x.sum('*', j) <= capacidade[j] for j in cursos),\n",
    "                                  name = 'restricao de capacidade')\n",
    "\n",
    "m.update()\n",
    "restricao_capacidade"
   ]
  },
  {
   "cell_type": "code",
   "execution_count": 8,
   "id": "a2ce41c1",
   "metadata": {},
   "outputs": [],
   "source": [
    "#Criando a função objetivo\n",
    "m.setObjective(gp.quicksum(pontos[i,j]*x[i,j] for i in estudantes for j in cursos), GRB.MAXIMIZE)"
   ]
  },
  {
   "cell_type": "code",
   "execution_count": 9,
   "id": "80095502",
   "metadata": {},
   "outputs": [
    {
     "name": "stdout",
     "output_type": "stream",
     "text": [
      "Warning: constraint name \"restrição de curso[1]\" has a space\n"
     ]
    }
   ],
   "source": [
    "#Escrevendo o problema, pra checar se está correto\n",
    "m.write('problema mestrado.lp')"
   ]
  },
  {
   "cell_type": "code",
   "execution_count": 10,
   "id": "4e8b4199",
   "metadata": {},
   "outputs": [
    {
     "name": "stdout",
     "output_type": "stream",
     "text": [
      "Gurobi Optimizer version 10.0.1 build v10.0.1rc0 (mac64[rosetta2])\n",
      "\n",
      "CPU model: Apple M1\n",
      "Thread count: 8 physical cores, 8 logical processors, using up to 8 threads\n",
      "\n",
      "Optimize a model with 16 rows, 60 columns and 120 nonzeros\n",
      "Model fingerprint: 0xe2d80cd4\n",
      "Variable types: 0 continuous, 60 integer (60 binary)\n",
      "Coefficient statistics:\n",
      "  Matrix range     [1e+00, 1e+00]\n",
      "  Objective range  [1e+01, 1e+02]\n",
      "  Bounds range     [1e+00, 1e+00]\n",
      "  RHS range        [2e+00, 8e+00]\n",
      "Found heuristic solution: objective 1300.0000000\n",
      "Presolve time: 0.01s\n",
      "Presolved: 16 rows, 60 columns, 120 nonzeros\n",
      "Variable types: 0 continuous, 60 integer (60 binary)\n",
      "Found heuristic solution: objective 1745.0000000\n",
      "\n",
      "Root relaxation: cutoff, 30 iterations, 0.00 seconds (0.00 work units)\n",
      "\n",
      "    Nodes    |    Current Node    |     Objective Bounds      |     Work\n",
      " Expl Unexpl |  Obj  Depth IntInf | Incumbent    BestBd   Gap | It/Node Time\n",
      "\n",
      "     0     0     cutoff    0      1745.00000 1745.00000  0.00%     -    0s\n",
      "\n",
      "Explored 1 nodes (30 simplex iterations) in 0.03 seconds (0.00 work units)\n",
      "Thread count was 8 (of 8 available processors)\n",
      "\n",
      "Solution count 2: 1745 1300 \n",
      "\n",
      "Optimal solution found (tolerance 1.00e-04)\n",
      "Best objective 1.745000000000e+03, best bound 1.745000000000e+03, gap 0.0000%\n"
     ]
    }
   ],
   "source": [
    "#Resolvendo\n",
    "m.optimize()"
   ]
  },
  {
   "cell_type": "code",
   "execution_count": 11,
   "id": "e77060e0",
   "metadata": {},
   "outputs": [
    {
     "data": {
      "text/plain": [
       "{(1, 5): 1.0,\n",
       " (1, 6): 1.0,\n",
       " (2, 1): 1.0,\n",
       " (2, 2): 1.0,\n",
       " (3, 5): 1.0,\n",
       " (3, 6): 1.0,\n",
       " (4, 1): 1.0,\n",
       " (4, 4): 1.0,\n",
       " (5, 3): 1.0,\n",
       " (5, 4): 1.0,\n",
       " (6, 3): 1.0,\n",
       " (6, 5): 1.0,\n",
       " (7, 3): 1.0,\n",
       " (7, 6): 1.0,\n",
       " (8, 2): 1.0,\n",
       " (8, 5): 1.0,\n",
       " (9, 1): 1.0,\n",
       " (9, 3): 1.0,\n",
       " (10, 3): 1.0,\n",
       " (10, 6): 1.0}"
      ]
     },
     "execution_count": 11,
     "metadata": {},
     "output_type": "execute_result"
    }
   ],
   "source": [
    "#Obtendo os valores\n",
    "xvals = {k: v.x for k,v in x.items() if v.x > 0}\n",
    "xvals"
   ]
  },
  {
   "cell_type": "code",
   "execution_count": 12,
   "id": "685a54e1",
   "metadata": {},
   "outputs": [
    {
     "data": {
      "text/plain": [
       "{'estudante_curso[1,1]': 0.0,\n",
       " 'estudante_curso[1,2]': 0.0,\n",
       " 'estudante_curso[1,3]': 0.0,\n",
       " 'estudante_curso[1,4]': 0.0,\n",
       " 'estudante_curso[1,5]': 1.0,\n",
       " 'estudante_curso[1,6]': 1.0,\n",
       " 'estudante_curso[2,1]': 1.0,\n",
       " 'estudante_curso[2,2]': 1.0,\n",
       " 'estudante_curso[2,3]': 0.0,\n",
       " 'estudante_curso[2,4]': 0.0,\n",
       " 'estudante_curso[2,5]': 0.0,\n",
       " 'estudante_curso[2,6]': 0.0,\n",
       " 'estudante_curso[3,1]': 0.0,\n",
       " 'estudante_curso[3,2]': 0.0,\n",
       " 'estudante_curso[3,3]': 0.0,\n",
       " 'estudante_curso[3,4]': 0.0,\n",
       " 'estudante_curso[3,5]': 1.0,\n",
       " 'estudante_curso[3,6]': 1.0,\n",
       " 'estudante_curso[4,1]': 1.0,\n",
       " 'estudante_curso[4,2]': 0.0,\n",
       " 'estudante_curso[4,3]': 0.0,\n",
       " 'estudante_curso[4,4]': 1.0,\n",
       " 'estudante_curso[4,5]': 0.0,\n",
       " 'estudante_curso[4,6]': 0.0,\n",
       " 'estudante_curso[5,1]': 0.0,\n",
       " 'estudante_curso[5,2]': 0.0,\n",
       " 'estudante_curso[5,3]': 1.0,\n",
       " 'estudante_curso[5,4]': 1.0,\n",
       " 'estudante_curso[5,5]': 0.0,\n",
       " 'estudante_curso[5,6]': 0.0,\n",
       " 'estudante_curso[6,1]': 0.0,\n",
       " 'estudante_curso[6,2]': 0.0,\n",
       " 'estudante_curso[6,3]': 1.0,\n",
       " 'estudante_curso[6,4]': 0.0,\n",
       " 'estudante_curso[6,5]': 1.0,\n",
       " 'estudante_curso[6,6]': 0.0,\n",
       " 'estudante_curso[7,1]': 0.0,\n",
       " 'estudante_curso[7,2]': 0.0,\n",
       " 'estudante_curso[7,3]': 1.0,\n",
       " 'estudante_curso[7,4]': 0.0,\n",
       " 'estudante_curso[7,5]': 0.0,\n",
       " 'estudante_curso[7,6]': 1.0,\n",
       " 'estudante_curso[8,1]': 0.0,\n",
       " 'estudante_curso[8,2]': 1.0,\n",
       " 'estudante_curso[8,3]': 0.0,\n",
       " 'estudante_curso[8,4]': 0.0,\n",
       " 'estudante_curso[8,5]': 1.0,\n",
       " 'estudante_curso[8,6]': 0.0,\n",
       " 'estudante_curso[9,1]': 1.0,\n",
       " 'estudante_curso[9,2]': 0.0,\n",
       " 'estudante_curso[9,3]': 1.0,\n",
       " 'estudante_curso[9,4]': 0.0,\n",
       " 'estudante_curso[9,5]': 0.0,\n",
       " 'estudante_curso[9,6]': 0.0,\n",
       " 'estudante_curso[10,1]': 0.0,\n",
       " 'estudante_curso[10,2]': 0.0,\n",
       " 'estudante_curso[10,3]': 1.0,\n",
       " 'estudante_curso[10,4]': 0.0,\n",
       " 'estudante_curso[10,5]': 0.0,\n",
       " 'estudante_curso[10,6]': 1.0}"
      ]
     },
     "execution_count": 12,
     "metadata": {},
     "output_type": "execute_result"
    }
   ],
   "source": [
    "all_vars = {v.varName: v.x for v in m.getVars()}\n",
    "all_vars"
   ]
  },
  {
   "cell_type": "code",
   "execution_count": 15,
   "id": "2daa5cae",
   "metadata": {},
   "outputs": [
    {
     "name": "stdout",
     "output_type": "stream",
     "text": [
      "O valor da função objetivo é 1745.0\n"
     ]
    }
   ],
   "source": [
    "#Mostrando o resultado da função objetivo\n",
    "obj = m.getObjective()\n",
    "print(f\"O valor da função objetivo é {round(obj.getValue(),2)}\")"
   ]
  },
  {
   "cell_type": "code",
   "execution_count": null,
   "id": "cf8f49ab",
   "metadata": {},
   "outputs": [],
   "source": []
  }
 ],
 "metadata": {
  "kernelspec": {
   "display_name": "Python 3 (ipykernel)",
   "language": "python",
   "name": "python3"
  },
  "language_info": {
   "codemirror_mode": {
    "name": "ipython",
    "version": 3
   },
   "file_extension": ".py",
   "mimetype": "text/x-python",
   "name": "python",
   "nbconvert_exporter": "python",
   "pygments_lexer": "ipython3",
   "version": "3.10.11"
  }
 },
 "nbformat": 4,
 "nbformat_minor": 5
}
