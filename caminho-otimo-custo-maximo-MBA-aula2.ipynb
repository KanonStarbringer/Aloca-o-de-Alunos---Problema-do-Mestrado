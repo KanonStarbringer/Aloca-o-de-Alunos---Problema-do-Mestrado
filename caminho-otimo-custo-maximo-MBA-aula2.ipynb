{
 "cells": [
  {
   "cell_type": "code",
   "execution_count": 1,
   "id": "8a69808f",
   "metadata": {},
   "outputs": [],
   "source": [
    "#Importa a biblioteca\n",
    "import networkx as nx"
   ]
  },
  {
   "cell_type": "code",
   "execution_count": 2,
   "id": "40991c53",
   "metadata": {},
   "outputs": [],
   "source": [
    "#Cria um gráfico direcionado\n",
    "grafo = nx.DiGraph()"
   ]
  },
  {
   "cell_type": "code",
   "execution_count": 3,
   "id": "4c830c35",
   "metadata": {},
   "outputs": [],
   "source": [
    "#Adiciona as arestas do Grafo\n",
    "\n",
    "#Nó A\n",
    "grafo.add_edge('A', 'B', weight=-5)\n",
    "grafo.add_edge('A', 'C', weight=-4)\n",
    "\n",
    "#Nó B\n",
    "grafo.add_edge('B', 'D', weight=-3)\n",
    "\n",
    "#Nó C\n",
    "grafo.add_edge('C', 'B', weight=-2)\n",
    "grafo.add_edge('C', 'D', weight=-6)\n",
    "grafo.add_edge('C', 'E', weight=-9)\n",
    "\n",
    "#Nó D\n",
    "grafo.add_edge('D', 'E', weight=-2)\n",
    "grafo.add_edge('D', 'F', weight=-8)\n",
    "\n",
    "#Nó E\n",
    "grafo.add_edge('E', 'F', weight=-4)"
   ]
  },
  {
   "cell_type": "code",
   "execution_count": 4,
   "id": "5c04b302",
   "metadata": {},
   "outputs": [],
   "source": [
    "#Encontra o caminho otimo usando dijkstra\n",
    "caminho_otimo = nx.dijkstra_path(grafo, 'A', 'F', weight='weight')\n",
    "lucro_maximo = nx.dijkstra_path_length(grafo, 'A', 'F', weight='weight')"
   ]
  },
  {
   "cell_type": "code",
   "execution_count": 7,
   "id": "48ad991f",
   "metadata": {},
   "outputs": [
    {
     "name": "stdout",
     "output_type": "stream",
     "text": [
      "caminho otimo= ['A', 'B', 'D', 'F']\n",
      "lucro maximo= 16\n"
     ]
    }
   ],
   "source": [
    "print('caminho otimo=', caminho_otimo)\n",
    "print('lucro maximo=', abs(lucro_maximo))"
   ]
  },
  {
   "cell_type": "code",
   "execution_count": null,
   "id": "23fcb7ee",
   "metadata": {},
   "outputs": [],
   "source": []
  }
 ],
 "metadata": {
  "kernelspec": {
   "display_name": "Python 3 (ipykernel)",
   "language": "python",
   "name": "python3"
  },
  "language_info": {
   "codemirror_mode": {
    "name": "ipython",
    "version": 3
   },
   "file_extension": ".py",
   "mimetype": "text/x-python",
   "name": "python",
   "nbconvert_exporter": "python",
   "pygments_lexer": "ipython3",
   "version": "3.10.11"
  }
 },
 "nbformat": 4,
 "nbformat_minor": 5
}
