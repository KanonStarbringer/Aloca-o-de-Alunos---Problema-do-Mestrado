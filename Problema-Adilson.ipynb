{
 "cells": [
  {
   "cell_type": "code",
   "execution_count": 1,
   "id": "5278c40d",
   "metadata": {},
   "outputs": [
    {
     "name": "stdout",
     "output_type": "stream",
     "text": [
      "Set parameter Username\n"
     ]
    }
   ],
   "source": [
    "#Problema MBA\n",
    "import gurobipy as gp\n",
    "import pandas as pd\n",
    "from gurobipy import GRB\n",
    "\n",
    "m = gp.Model('problema_Adilson')"
   ]
  },
  {
   "cell_type": "code",
   "execution_count": 2,
   "id": "96a25d10",
   "metadata": {},
   "outputs": [],
   "source": [
    "Cidades_origem = ['Araraquara', 'SJC']"
   ]
  },
  {
   "cell_type": "code",
   "execution_count": 3,
   "id": "8b6dbf69",
   "metadata": {},
   "outputs": [],
   "source": [
    "CD = ['CD_Araraquara', 'CD_SJC']"
   ]
  },
  {
   "cell_type": "code",
   "execution_count": 4,
   "id": "ba02df91",
   "metadata": {},
   "outputs": [],
   "source": [
    "Mercado = ['SP', 'BH', 'RJ']"
   ]
  },
  {
   "cell_type": "code",
   "execution_count": 5,
   "id": "56239026",
   "metadata": {},
   "outputs": [
    {
     "name": "stderr",
     "output_type": "stream",
     "text": [
      "/var/folders/f8/sx2sm28s5xn92g54_n5vypwh0000gn/T/ipykernel_72451/3608632233.py:2: FutureWarning: The squeeze argument has been deprecated and will be removed in a future version. Append .squeeze(\"columns\") to the call to squeeze.\n",
      "\n",
      "\n",
      "  custos = pd.read_csv(path, index_col=[0,1], squeeze=True)\n"
     ]
    },
    {
     "data": {
      "text/html": [
       "<div>\n",
       "<style scoped>\n",
       "    .dataframe tbody tr th:only-of-type {\n",
       "        vertical-align: middle;\n",
       "    }\n",
       "\n",
       "    .dataframe tbody tr th {\n",
       "        vertical-align: top;\n",
       "    }\n",
       "\n",
       "    .dataframe thead th {\n",
       "        text-align: right;\n",
       "    }\n",
       "</style>\n",
       "<table border=\"1\" class=\"dataframe\">\n",
       "  <thead>\n",
       "    <tr style=\"text-align: right;\">\n",
       "      <th>Destino</th>\n",
       "      <th>CD1</th>\n",
       "      <th>CD2</th>\n",
       "    </tr>\n",
       "    <tr>\n",
       "      <th>Origem</th>\n",
       "      <th></th>\n",
       "      <th></th>\n",
       "    </tr>\n",
       "  </thead>\n",
       "  <tbody>\n",
       "    <tr>\n",
       "      <th>Araraquara</th>\n",
       "      <td>23.5</td>\n",
       "      <td>51.4</td>\n",
       "    </tr>\n",
       "    <tr>\n",
       "      <th>SJC</th>\n",
       "      <td>9.4</td>\n",
       "      <td>54.0</td>\n",
       "    </tr>\n",
       "  </tbody>\n",
       "</table>\n",
       "</div>"
      ],
      "text/plain": [
       "Destino      CD1   CD2\n",
       "Origem                \n",
       "Araraquara  23.5  51.4\n",
       "SJC          9.4  54.0"
      ]
     },
     "execution_count": 5,
     "metadata": {},
     "output_type": "execute_result"
    }
   ],
   "source": [
    "path = '/Users/TullioPires/Python-Mestrado/cidade-CD.csv'\n",
    "custos = pd.read_csv(path, index_col=[0,1], squeeze=True)\n",
    "\n",
    "#Pivotar a tabela, para ler\n",
    "custos.reset_index().pivot(index = 'Origem', columns = 'Destino', values = 'Custo')"
   ]
  },
  {
   "cell_type": "code",
   "execution_count": 6,
   "id": "07a58ac0",
   "metadata": {},
   "outputs": [
    {
     "name": "stderr",
     "output_type": "stream",
     "text": [
      "/var/folders/f8/sx2sm28s5xn92g54_n5vypwh0000gn/T/ipykernel_72451/438711658.py:2: FutureWarning: The squeeze argument has been deprecated and will be removed in a future version. Append .squeeze(\"columns\") to the call to squeeze.\n",
      "\n",
      "\n",
      "  custos2 = pd.read_csv(caminho, index_col=[0,1], squeeze=True)\n"
     ]
    },
    {
     "data": {
      "text/html": [
       "<div>\n",
       "<style scoped>\n",
       "    .dataframe tbody tr th:only-of-type {\n",
       "        vertical-align: middle;\n",
       "    }\n",
       "\n",
       "    .dataframe tbody tr th {\n",
       "        vertical-align: top;\n",
       "    }\n",
       "\n",
       "    .dataframe thead th {\n",
       "        text-align: right;\n",
       "    }\n",
       "</style>\n",
       "<table border=\"1\" class=\"dataframe\">\n",
       "  <thead>\n",
       "    <tr style=\"text-align: right;\">\n",
       "      <th>Destino</th>\n",
       "      <th>BH</th>\n",
       "      <th>RJ</th>\n",
       "      <th>SP</th>\n",
       "    </tr>\n",
       "    <tr>\n",
       "      <th>Origem</th>\n",
       "      <th></th>\n",
       "      <th></th>\n",
       "      <th></th>\n",
       "    </tr>\n",
       "  </thead>\n",
       "  <tbody>\n",
       "    <tr>\n",
       "      <th>CD1</th>\n",
       "      <td>59.8</td>\n",
       "      <td>70.8</td>\n",
       "      <td>27.7</td>\n",
       "    </tr>\n",
       "    <tr>\n",
       "      <th>CD2</th>\n",
       "      <td>52.0</td>\n",
       "      <td>34.1</td>\n",
       "      <td>10.4</td>\n",
       "    </tr>\n",
       "  </tbody>\n",
       "</table>\n",
       "</div>"
      ],
      "text/plain": [
       "Destino    BH    RJ    SP\n",
       "Origem                   \n",
       "CD1      59.8  70.8  27.7\n",
       "CD2      52.0  34.1  10.4"
      ]
     },
     "execution_count": 6,
     "metadata": {},
     "output_type": "execute_result"
    }
   ],
   "source": [
    "caminho = '/Users/TullioPires/Python-Mestrado/CD-destino.csv'\n",
    "custos2 = pd.read_csv(caminho, index_col=[0,1], squeeze=True)\n",
    "\n",
    "#Pivotar a tabela, para ler\n",
    "custos2.reset_index().pivot(index = 'Origem', columns = 'Destino', values = 'Custo')"
   ]
  },
  {
   "cell_type": "code",
   "execution_count": 7,
   "id": "1ea54827",
   "metadata": {},
   "outputs": [
    {
     "data": {
      "text/html": [
       "<div>\n",
       "<style scoped>\n",
       "    .dataframe tbody tr th:only-of-type {\n",
       "        vertical-align: middle;\n",
       "    }\n",
       "\n",
       "    .dataframe tbody tr th {\n",
       "        vertical-align: top;\n",
       "    }\n",
       "\n",
       "    .dataframe thead th {\n",
       "        text-align: right;\n",
       "    }\n",
       "</style>\n",
       "<table border=\"1\" class=\"dataframe\">\n",
       "  <thead>\n",
       "    <tr style=\"text-align: right;\">\n",
       "      <th></th>\n",
       "      <th>oferta</th>\n",
       "    </tr>\n",
       "  </thead>\n",
       "  <tbody>\n",
       "    <tr>\n",
       "      <th>CD_Araraquara</th>\n",
       "      <td>800</td>\n",
       "    </tr>\n",
       "    <tr>\n",
       "      <th>CD_SJC</th>\n",
       "      <td>100</td>\n",
       "    </tr>\n",
       "  </tbody>\n",
       "</table>\n",
       "</div>"
      ],
      "text/plain": [
       "               oferta\n",
       "CD_Araraquara     800\n",
       "CD_SJC            100"
      ]
     },
     "execution_count": 7,
     "metadata": {},
     "output_type": "execute_result"
    }
   ],
   "source": [
    "oferta = pd.Series([800, 100], index=CD, name='oferta')\n",
    "oferta.to_frame()"
   ]
  },
  {
   "cell_type": "code",
   "execution_count": 8,
   "id": "9a3a2c98",
   "metadata": {},
   "outputs": [
    {
     "data": {
      "text/html": [
       "<div>\n",
       "<style scoped>\n",
       "    .dataframe tbody tr th:only-of-type {\n",
       "        vertical-align: middle;\n",
       "    }\n",
       "\n",
       "    .dataframe tbody tr th {\n",
       "        vertical-align: top;\n",
       "    }\n",
       "\n",
       "    .dataframe thead th {\n",
       "        text-align: right;\n",
       "    }\n",
       "</style>\n",
       "<table border=\"1\" class=\"dataframe\">\n",
       "  <thead>\n",
       "    <tr style=\"text-align: right;\">\n",
       "      <th></th>\n",
       "      <th>demanda</th>\n",
       "    </tr>\n",
       "  </thead>\n",
       "  <tbody>\n",
       "    <tr>\n",
       "      <th>SP</th>\n",
       "      <td>500</td>\n",
       "    </tr>\n",
       "    <tr>\n",
       "      <th>BH</th>\n",
       "      <td>400</td>\n",
       "    </tr>\n",
       "    <tr>\n",
       "      <th>RJ</th>\n",
       "      <td>900</td>\n",
       "    </tr>\n",
       "  </tbody>\n",
       "</table>\n",
       "</div>"
      ],
      "text/plain": [
       "    demanda\n",
       "SP      500\n",
       "BH      400\n",
       "RJ      900"
      ]
     },
     "execution_count": 8,
     "metadata": {},
     "output_type": "execute_result"
    }
   ],
   "source": [
    "demanda = pd.Series([500, 400, 900], index=Mercado, name='demanda')\n",
    "demanda.to_frame()"
   ]
  },
  {
   "cell_type": "code",
   "execution_count": 9,
   "id": "65572a59",
   "metadata": {},
   "outputs": [],
   "source": [
    "m = gp.Model('problema_Adilson')\n",
    "x = m.addVars(Cidades_origem, CD, vtype = GRB.CONTINUOUS, name = 'cidade_CD')\n",
    "y = m.addVars(CD, Mercado, vtype=GRB.CONTINUOUS, name='CD_destino')\n",
    "m.update()\n",
    "m.write('problema_Adilson.lp')"
   ]
  },
  {
   "cell_type": "code",
   "execution_count": 10,
   "id": "51fbb791",
   "metadata": {},
   "outputs": [],
   "source": [
    "#Criando as restrições de oferta\n",
    "restricao_oferta_araquara = m.addConstr((x['Araraquara', 'CD_Araraquara'] +\n",
    "                                         x['Araraquara', 'CD_SJC']== 800),\n",
    "                                        name='restrição de oferta Araraquara')\n",
    "\n",
    "restricao_oferta_SJC = m.addConstr((x['SJC', 'CD_Araraquara'] + x['SJC', 'CD_SJC'])==1000,\n",
    "                                  name = 'restrição de oferta SJC')\n",
    "m.update()"
   ]
  },
  {
   "cell_type": "code",
   "execution_count": 11,
   "id": "9686e45a",
   "metadata": {},
   "outputs": [],
   "source": [
    "#Criando as restrições demanda\n",
    "restricao_demanda_SP = m.addConstr((y['CD_Araraquara','SP']\n",
    "                                                  +y['CD_SJC', 'SP'] == 500),\n",
    "                                                name='restrição de demanda SP')\n",
    "restricao_demanda_BH = m.addConstr((y['CD_Araraquara','BH']\n",
    "                                                +y['CD_SJC', 'BH'] == 400),\n",
    "                                               name='restrição demanda BH')\n",
    "restricao_demanda_RJ = m.addConstr((y['CD_Araraquara', 'RJ']\n",
    "                                  +y['CD_SJC', 'RJ'] == 900),\n",
    "                                 name='restrição demanda RJ')\n",
    "\n",
    "m.update()"
   ]
  },
  {
   "cell_type": "code",
   "execution_count": 12,
   "id": "e3ff66ad",
   "metadata": {},
   "outputs": [],
   "source": [
    "#Criando a função objetivo\n",
    "m.setObjective(23.5*x['Araraquara', 'CD_Araraquara']+51.4*x['Araraquara', 'CD_SJC']\n",
    "               +9.4*x['SJC', 'CD_Araraquara']+54*x['SJC', 'CD_SJC']+27.7*y['CD_Araraquara','SP']\n",
    "               +59.8*y['CD_SJC', 'SP']+70.8*y['CD_Araraquara','BH']\n",
    "               +10.4*y['CD_SJC', 'BH']+52*y['CD_Araraquara', 'RJ']\n",
    "               +34.1*y['CD_SJC', 'RJ'], GRB.MINIMIZE)"
   ]
  },
  {
   "cell_type": "code",
   "execution_count": 13,
   "id": "8f946dd6",
   "metadata": {},
   "outputs": [
    {
     "name": "stdout",
     "output_type": "stream",
     "text": [
      "Warning: constraint name \"restrição de oferta Araraquara\" has a space\n"
     ]
    }
   ],
   "source": [
    "m.write('problema_Adilson.lp')"
   ]
  },
  {
   "cell_type": "code",
   "execution_count": 14,
   "id": "63b36b3d",
   "metadata": {},
   "outputs": [
    {
     "name": "stdout",
     "output_type": "stream",
     "text": [
      "Gurobi Optimizer version 10.0.1 build v10.0.1rc0 (mac64[rosetta2])\n",
      "\n",
      "CPU model: Apple M1\n",
      "Thread count: 8 physical cores, 8 logical processors, using up to 8 threads\n",
      "\n",
      "Optimize a model with 5 rows, 10 columns and 10 nonzeros\n",
      "Model fingerprint: 0x66737518\n",
      "Coefficient statistics:\n",
      "  Matrix range     [1e+00, 1e+00]\n",
      "  Objective range  [9e+00, 7e+01]\n",
      "  Bounds range     [0e+00, 0e+00]\n",
      "  RHS range        [4e+02, 1e+03]\n",
      "Presolve removed 5 rows and 10 columns\n",
      "Presolve time: 0.01s\n",
      "Presolve: All rows and columns removed\n",
      "Iteration    Objective       Primal Inf.    Dual Inf.      Time\n",
      "       0    7.6900000e+04   0.000000e+00   0.000000e+00      0s\n",
      "\n",
      "Solved in 0 iterations and 0.02 seconds (0.00 work units)\n",
      "Optimal objective  7.690000000e+04\n"
     ]
    }
   ],
   "source": [
    "m.optimize()"
   ]
  },
  {
   "cell_type": "code",
   "execution_count": 29,
   "id": "ffb30223",
   "metadata": {},
   "outputs": [
    {
     "data": {
      "text/plain": [
       "[(('Araraquara', 'CD_Araraquara'),\n",
       "  <gurobi.Var cidade_CD[Araraquara,CD_Araraquara] (value 800.0)>),\n",
       " (('Araraquara', 'CD_SJC'),\n",
       "  <gurobi.Var cidade_CD[Araraquara,CD_SJC] (value 0.0)>),\n",
       " (('SJC', 'CD_Araraquara'),\n",
       "  <gurobi.Var cidade_CD[SJC,CD_Araraquara] (value 1000.0)>),\n",
       " (('SJC', 'CD_SJC'), <gurobi.Var cidade_CD[SJC,CD_SJC] (value 0.0)>)]"
      ]
     },
     "execution_count": 29,
     "metadata": {},
     "output_type": "execute_result"
    }
   ],
   "source": [
    "#Obtendo os valores de X\n",
    "#xvals = {k: v.x for k,v in x.items() if v.x> 0}\n",
    "#xvals\n",
    "x.items()"
   ]
  },
  {
   "cell_type": "code",
   "execution_count": 28,
   "id": "ea05fd23",
   "metadata": {},
   "outputs": [
    {
     "data": {
      "text/plain": [
       "[(('CD_Araraquara', 'SP'),\n",
       "  <gurobi.Var CD_destino[CD_Araraquara,SP] (value 500.0)>),\n",
       " (('CD_Araraquara', 'BH'),\n",
       "  <gurobi.Var CD_destino[CD_Araraquara,BH] (value 0.0)>),\n",
       " (('CD_Araraquara', 'RJ'),\n",
       "  <gurobi.Var CD_destino[CD_Araraquara,RJ] (value 0.0)>),\n",
       " (('CD_SJC', 'SP'), <gurobi.Var CD_destino[CD_SJC,SP] (value 0.0)>),\n",
       " (('CD_SJC', 'BH'), <gurobi.Var CD_destino[CD_SJC,BH] (value 400.0)>),\n",
       " (('CD_SJC', 'RJ'), <gurobi.Var CD_destino[CD_SJC,RJ] (value 900.0)>)]"
      ]
     },
     "execution_count": 28,
     "metadata": {},
     "output_type": "execute_result"
    }
   ],
   "source": [
    "#Obtendo os valors de Y\n",
    "y.items()"
   ]
  },
  {
   "cell_type": "code",
   "execution_count": 18,
   "id": "2f8e0748",
   "metadata": {},
   "outputs": [
    {
     "name": "stdout",
     "output_type": "stream",
     "text": [
      "O valor da função objetivo é 76900.0\n"
     ]
    }
   ],
   "source": [
    "#Mostrando o resultado da função objetivo\n",
    "obj = m.getObjective()\n",
    "print(f\"O valor da função objetivo é {round(obj.getValue(),2)}\")"
   ]
  },
  {
   "cell_type": "code",
   "execution_count": null,
   "id": "7fd2b24e",
   "metadata": {},
   "outputs": [],
   "source": []
  }
 ],
 "metadata": {
  "kernelspec": {
   "display_name": "Python 3 (ipykernel)",
   "language": "python",
   "name": "python3"
  },
  "language_info": {
   "codemirror_mode": {
    "name": "ipython",
    "version": 3
   },
   "file_extension": ".py",
   "mimetype": "text/x-python",
   "name": "python",
   "nbconvert_exporter": "python",
   "pygments_lexer": "ipython3",
   "version": "3.10.11"
  }
 },
 "nbformat": 4,
 "nbformat_minor": 5
}
